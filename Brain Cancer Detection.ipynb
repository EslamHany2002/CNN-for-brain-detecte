{
 "cells": [
  {
   "cell_type": "code",
   "execution_count": 1,
   "metadata": {},
   "outputs": [],
   "source": [
    "import os\n",
    "import numpy as np\n",
    "import cv2\n",
    "from sklearn.model_selection import train_test_split\n",
    "from keras.models import Sequential, load_model\n",
    "from keras.layers import Conv2D, MaxPooling2D, Flatten, Dense, Dropout\n",
    "from keras.utils import to_categorical\n",
    "import matplotlib.pyplot as plt"
   ]
  },
  {
   "cell_type": "code",
   "execution_count": 2,
   "metadata": {},
   "outputs": [],
   "source": [
    "def load_and_preprocess_data(dataset_path, img_size=(128, 128)):\n",
    "    images = []\n",
    "    labels = []\n",
    "\n",
    "    for folder in os.listdir(dataset_path):\n",
    "        label = 0 if folder == 'no' else 1  # Assigning label 0 to 'no' folder and 1 to 'yes' folder\n",
    "        folder_path = os.path.join(dataset_path, folder)\n",
    "        for filename in os.listdir(folder_path):\n",
    "            img_path = os.path.join(folder_path, filename)\n",
    "            image = cv2.imread(img_path)\n",
    "            image = cv2.cvtColor(image, cv2.COLOR_BGR2GRAY)  # Convert to grayscale\n",
    "            image = cv2.resize(image, img_size)\n",
    "            image = image / 255.0  # Normalize pixel values to be between 0 and 1\n",
    "            images.append(image)\n",
    "            labels.append(label)\n",
    "\n",
    "    images = np.array(images)\n",
    "    labels = np.array(labels)\n",
    "    return images, labels"
   ]
  },
  {
   "cell_type": "code",
   "execution_count": 3,
   "metadata": {},
   "outputs": [],
   "source": [
    "# Load and preprocess the data\n",
    "dataset_path = 'augmented data'\n",
    "images, labels = load_and_preprocess_data(dataset_path)"
   ]
  },
  {
   "cell_type": "code",
   "execution_count": 4,
   "metadata": {},
   "outputs": [],
   "source": [
    "# Split data into training and testing sets\n",
    "X_train, X_test, y_train, y_test = train_test_split(images, labels, test_size=0.2, random_state=42)"
   ]
  },
  {
   "cell_type": "code",
   "execution_count": 5,
   "metadata": {},
   "outputs": [],
   "source": [
    "# Convert labels to one-hot encoding\n",
    "y_train = to_categorical(y_train)\n",
    "y_test = to_categorical(y_test)"
   ]
  },
  {
   "cell_type": "code",
   "execution_count": 6,
   "metadata": {},
   "outputs": [],
   "source": [
    "# Define CNN model\n",
    "model = Sequential()\n",
    "model.add(Conv2D(32, (3, 3), activation='relu', input_shape=(128, 128, 1)))\n",
    "model.add(MaxPooling2D((2, 2)))\n",
    "model.add(Conv2D(64, (3, 3), activation='relu'))\n",
    "model.add(MaxPooling2D((2, 2)))\n",
    "model.add(Conv2D(64, (3, 3), activation='relu'))\n",
    "model.add(Flatten())\n",
    "model.add(Dense(64, activation='relu'))\n",
    "model.add(Dense(2, activation='softmax'))  # Output layer with 2 neurons for binary classification"
   ]
  },
  {
   "cell_type": "code",
   "execution_count": 7,
   "metadata": {},
   "outputs": [],
   "source": [
    "# Compile the model\n",
    "model.compile(optimizer='adam', loss='binary_crossentropy', metrics=['accuracy'])"
   ]
  },
  {
   "cell_type": "code",
   "execution_count": 8,
   "metadata": {},
   "outputs": [
    {
     "name": "stdout",
     "output_type": "stream",
     "text": [
      "Epoch 1/30\n",
      "52/52 [==============================] - 18s 319ms/step - loss: 0.6021 - accuracy: 0.6881 - val_loss: 0.5603 - val_accuracy: 0.7312\n",
      "Epoch 2/30\n",
      "52/52 [==============================] - 15s 291ms/step - loss: 0.5089 - accuracy: 0.7535 - val_loss: 0.4978 - val_accuracy: 0.7603\n",
      "Epoch 3/30\n",
      "52/52 [==============================] - 16s 311ms/step - loss: 0.4323 - accuracy: 0.8189 - val_loss: 0.6164 - val_accuracy: 0.7312\n",
      "Epoch 4/30\n",
      "52/52 [==============================] - 15s 289ms/step - loss: 0.3725 - accuracy: 0.8401 - val_loss: 0.4931 - val_accuracy: 0.7869\n",
      "Epoch 5/30\n",
      "52/52 [==============================] - 16s 299ms/step - loss: 0.2831 - accuracy: 0.8776 - val_loss: 0.4927 - val_accuracy: 0.7918\n",
      "Epoch 6/30\n",
      "52/52 [==============================] - 15s 296ms/step - loss: 0.2217 - accuracy: 0.9128 - val_loss: 0.5838 - val_accuracy: 0.7724\n",
      "Epoch 7/30\n",
      "52/52 [==============================] - 19s 370ms/step - loss: 0.1544 - accuracy: 0.9370 - val_loss: 0.6923 - val_accuracy: 0.7458\n",
      "Epoch 8/30\n",
      "52/52 [==============================] - 15s 286ms/step - loss: 0.0957 - accuracy: 0.9655 - val_loss: 0.7293 - val_accuracy: 0.7893\n",
      "Epoch 9/30\n",
      "52/52 [==============================] - 15s 294ms/step - loss: 0.0865 - accuracy: 0.9703 - val_loss: 0.7047 - val_accuracy: 0.7966\n",
      "Epoch 10/30\n",
      "52/52 [==============================] - 16s 304ms/step - loss: 0.0298 - accuracy: 0.9921 - val_loss: 0.9337 - val_accuracy: 0.8015\n",
      "Epoch 11/30\n",
      "52/52 [==============================] - 16s 306ms/step - loss: 0.0148 - accuracy: 0.9970 - val_loss: 1.1001 - val_accuracy: 0.7942\n",
      "Epoch 12/30\n",
      "52/52 [==============================] - 16s 304ms/step - loss: 0.0534 - accuracy: 0.9800 - val_loss: 0.9809 - val_accuracy: 0.7918\n",
      "Epoch 13/30\n",
      "52/52 [==============================] - 15s 297ms/step - loss: 0.0155 - accuracy: 0.9970 - val_loss: 0.9719 - val_accuracy: 0.8039\n",
      "Epoch 14/30\n",
      "52/52 [==============================] - 14s 272ms/step - loss: 0.0056 - accuracy: 0.9994 - val_loss: 1.1728 - val_accuracy: 0.8039\n",
      "Epoch 15/30\n",
      "52/52 [==============================] - 15s 289ms/step - loss: 0.0012 - accuracy: 1.0000 - val_loss: 1.2451 - val_accuracy: 0.8015\n",
      "Epoch 16/30\n",
      "52/52 [==============================] - 14s 275ms/step - loss: 5.5715e-04 - accuracy: 1.0000 - val_loss: 1.3062 - val_accuracy: 0.8015\n",
      "Epoch 17/30\n",
      "52/52 [==============================] - 14s 266ms/step - loss: 3.9560e-04 - accuracy: 1.0000 - val_loss: 1.3435 - val_accuracy: 0.7990\n",
      "Epoch 18/30\n",
      "52/52 [==============================] - 15s 285ms/step - loss: 3.1336e-04 - accuracy: 1.0000 - val_loss: 1.3836 - val_accuracy: 0.7990\n",
      "Epoch 19/30\n",
      "52/52 [==============================] - 14s 266ms/step - loss: 2.5671e-04 - accuracy: 1.0000 - val_loss: 1.4093 - val_accuracy: 0.7990\n",
      "Epoch 20/30\n",
      "52/52 [==============================] - 15s 280ms/step - loss: 2.1715e-04 - accuracy: 1.0000 - val_loss: 1.4403 - val_accuracy: 0.7990\n",
      "Epoch 21/30\n",
      "52/52 [==============================] - 15s 294ms/step - loss: 1.8434e-04 - accuracy: 1.0000 - val_loss: 1.4608 - val_accuracy: 0.7990\n",
      "Epoch 22/30\n",
      "52/52 [==============================] - 16s 301ms/step - loss: 1.6150e-04 - accuracy: 1.0000 - val_loss: 1.4874 - val_accuracy: 0.7990\n",
      "Epoch 23/30\n",
      "52/52 [==============================] - 17s 320ms/step - loss: 1.4140e-04 - accuracy: 1.0000 - val_loss: 1.5037 - val_accuracy: 0.7990\n",
      "Epoch 24/30\n",
      "52/52 [==============================] - 15s 283ms/step - loss: 1.2678e-04 - accuracy: 1.0000 - val_loss: 1.5238 - val_accuracy: 0.8015\n",
      "Epoch 25/30\n",
      "52/52 [==============================] - 15s 289ms/step - loss: 1.1329e-04 - accuracy: 1.0000 - val_loss: 1.5419 - val_accuracy: 0.7990\n",
      "Epoch 26/30\n",
      "52/52 [==============================] - 17s 337ms/step - loss: 1.0102e-04 - accuracy: 1.0000 - val_loss: 1.5568 - val_accuracy: 0.7990\n",
      "Epoch 27/30\n",
      "52/52 [==============================] - 15s 291ms/step - loss: 9.1411e-05 - accuracy: 1.0000 - val_loss: 1.5723 - val_accuracy: 0.7990\n",
      "Epoch 28/30\n",
      "52/52 [==============================] - 15s 281ms/step - loss: 8.3561e-05 - accuracy: 1.0000 - val_loss: 1.5869 - val_accuracy: 0.7990\n",
      "Epoch 29/30\n",
      "52/52 [==============================] - 14s 272ms/step - loss: 7.6426e-05 - accuracy: 1.0000 - val_loss: 1.6031 - val_accuracy: 0.7990\n",
      "Epoch 30/30\n",
      "52/52 [==============================] - 14s 272ms/step - loss: 7.0114e-05 - accuracy: 1.0000 - val_loss: 1.6154 - val_accuracy: 0.7990\n"
     ]
    }
   ],
   "source": [
    "# Train the model\n",
    "history = model.fit(X_train.reshape(-1, 128, 128, 1), y_train, epochs=30, batch_size=32, validation_data=(X_test.reshape(-1, 128, 128, 1), y_test))"
   ]
  },
  {
   "cell_type": "code",
   "execution_count": 9,
   "metadata": {},
   "outputs": [
    {
     "data": {
      "text/plain": [
       "<Figure size 1200x600 with 0 Axes>"
      ]
     },
     "execution_count": 9,
     "metadata": {},
     "output_type": "execute_result"
    },
    {
     "data": {
      "text/plain": [
       "<Figure size 1200x600 with 0 Axes>"
      ]
     },
     "metadata": {},
     "output_type": "display_data"
    }
   ],
   "source": [
    "plt.figure(figsize=(12, 6))"
   ]
  },
  {
   "cell_type": "code",
   "execution_count": 10,
   "metadata": {},
   "outputs": [
    {
     "data": {
      "text/plain": [
       "<matplotlib.legend.Legend at 0x2832e67a7d0>"
      ]
     },
     "execution_count": 10,
     "metadata": {},
     "output_type": "execute_result"
    },
    {
     "data": {
      "image/png": "[encoded data removed]",
      "text/plain": [
       "<Figure size 640x480 with 1 Axes>"
      ]
     },
     "metadata": {},
     "output_type": "display_data"
    }
   ],
   "source": [
    "# Plot training & validation loss values\n",
    "plt.subplot(1, 2, 1)\n",
    "plt.plot(history.history['loss'])\n",
    "plt.plot(history.history['val_loss'])\n",
    "plt.title('Model loss')\n",
    "plt.ylabel('Loss')\n",
    "plt.xlabel('Epoch')\n",
    "plt.legend(['Train', 'Test'], loc='upper left')"
   ]
  },
  {
   "cell_type": "code",
   "execution_count": 11,
   "metadata": {},
   "outputs": [
    {
     "data": {
      "text/plain": [
       "<matplotlib.legend.Legend at 0x2832e6b3090>"
      ]
     },
     "execution_count": 11,
     "metadata": {},
     "output_type": "execute_result"
    },
    {
     "data": {
      "image/png": "[encoded data removed]",
      "text/plain": [
       "<Figure size 640x480 with 1 Axes>"
      ]
     },
     "metadata": {},
     "output_type": "display_data"
    }
   ],
   "source": [
    "# Plot training & validation accuracy values\n",
    "plt.subplot(1, 2, 2)\n",
    "plt.plot(history.history['accuracy'])\n",
    "plt.plot(history.history['val_accuracy'])\n",
    "plt.title('Model accuracy')\n",
    "plt.ylabel('Accuracy')\n",
    "plt.xlabel('Epoch')\n",
    "plt.legend(['Train', 'Test'], loc='upper left')"
   ]
  },
  {
   "cell_type": "code",
   "execution_count": 12,
   "metadata": {},
   "outputs": [],
   "source": [
    "plt.show()"
   ]
  },
  {
   "cell_type": "code",
   "execution_count": 13,
   "metadata": {},
   "outputs": [
    {
     "name": "stderr",
     "output_type": "stream",
     "text": [
      "C:\\Users\\hp\\AppData\\Local\\Packages\\PythonSoftwareFoundation.Python.3.11_qbz5n2kfra8p0\\LocalCache\\local-packages\\Python311\\site-packages\\keras\\src\\engine\\training.py:3000: UserWarning: You are saving your model as an HDF5 file via `model.save()`. This file format is considered legacy. We recommend using instead the native Keras format, e.g. `model.save('my_model.keras')`.\n",
      "  saving_api.save_model(\n"
     ]
    }
   ],
   "source": [
    "# Save the trained model\n",
    "model.save('brain_tumor_detection_model.h5')"
   ]
  },
  {
   "cell_type": "code",
   "execution_count": 14,
   "metadata": {},
   "outputs": [],
   "source": [
    "# Perform a single test using the saved model\n",
    "# Load the model\n",
    "saved_model = load_model('brain_tumor_detection_model.h5')"
   ]
  },
  {
   "cell_type": "code",
   "execution_count": 15,
   "metadata": {},
   "outputs": [
    {
     "name": "stdout",
     "output_type": "stream",
     "text": [
      "13/13 [==============================] - 1s 54ms/step - loss: 1.6154 - accuracy: 0.7990\n",
      "Test Loss: 1.615444540977478\n",
      "Test Accuracy: 0.7990314960479736\n"
     ]
    }
   ],
   "source": [
    "# Evaluate the model\n",
    "loss, accuracy = model.evaluate(X_test.reshape(-1, 128, 128, 1), y_test)\n",
    "print(\"Test Loss:\", loss)\n",
    "print(\"Test Accuracy:\", accuracy)"
   ]
  },
  {
   "cell_type": "code",
   "execution_count": 16,
   "metadata": {},
   "outputs": [
    {
     "name": "stdout",
     "output_type": "stream",
     "text": [
      "1/1 [==============================] - 0s 120ms/step\n",
      "Prediction: Tumor Present\n"
     ]
    }
   ],
   "source": [
    "# Perform a single test\n",
    "# Assume you have a single image named 'test_image.jpg'\n",
    "test_image = cv2.imread(r'yes\\Y163.JPG')\n",
    "test_image = cv2.cvtColor(test_image, cv2.COLOR_BGR2GRAY)\n",
    "test_image = cv2.resize(test_image, (128, 128))\n",
    "test_image = test_image / 255.0\n",
    "test_image = np.expand_dims(test_image, axis=0)\n",
    "prediction = model.predict(test_image.reshape(-1, 128, 128, 1))\n",
    "if prediction[0][0] > prediction[0][1]:\n",
    "    print(\"Prediction: No Tumor\")\n",
    "else:\n",
    "    print(\"Prediction: Tumor Present\")"
   ]
  }
 ],
 "metadata": {
  "kernelspec": {
   "display_name": "Python 3",
   "language": "python",
   "name": "python3"
  },
  "language_info": {
   "codemirror_mode": {
    "name": "ipython",
    "version": 3
   },
   "file_extension": ".py",
   "mimetype": "text/x-python",
   "name": "python",
   "nbconvert_exporter": "python",
   "pygments_lexer": "ipython3",
   "version": "3.11.8"
  }
 },
 "nbformat": 4,
 "nbformat_minor": 2
}
