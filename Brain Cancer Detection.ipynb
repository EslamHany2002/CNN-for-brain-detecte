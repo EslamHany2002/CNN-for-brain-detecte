{
 "cells": [
  {
   "cell_type": "code",
   "execution_count": 1,
   "metadata": {},
   "outputs": [],
   "source": [
    "import os\n",
    "import numpy as np\n",
    "import cv2\n",
    "from sklearn.model_selection import train_test_split\n",
    "from keras.models import Sequential, load_model\n",
    "from keras.layers import Conv2D, MaxPooling2D, Flatten, Dense, Dropout\n",
    "from keras.utils import to_categorical\n",
    "import matplotlib.pyplot as plt"
   ]
  },
  {
   "cell_type": "code",
   "execution_count": 2,
   "metadata": {},
   "outputs": [],
   "source": [
    "def load_and_preprocess_data(dataset_path, img_size=(128, 128)):\n",
    "    images = []\n",
    "    labels = []\n",
    "\n",
    "    for folder in os.listdir(dataset_path):\n",
    "        label = 0 if folder == 'no' else 1  # Assigning label 0 to 'no' folder and 1 to 'yes' folder\n",
    "        folder_path = os.path.join(dataset_path, folder)\n",
    "        for filename in os.listdir(folder_path):\n",
    "            img_path = os.path.join(folder_path, filename)\n",
    "            image = cv2.imread(img_path)\n",
    "            image = cv2.cvtColor(image, cv2.COLOR_BGR2GRAY)  # Convert to grayscale\n",
    "            image = cv2.resize(image, img_size)\n",
    "            image = image / 255.0  # Normalize pixel values to be between 0 and 1\n",
    "            images.append(image)\n",
    "            labels.append(label)\n",
    "\n",
    "    images = np.array(images)\n",
    "    labels = np.array(labels)\n",
    "    return images, labels"
   ]
  },
  {
   "cell_type": "code",
   "execution_count": 3,
   "metadata": {},
   "outputs": [],
   "source": [
    "# Load and preprocess the data\n",
    "dataset_path = 'augmented data'\n",
    "images, labels = load_and_preprocess_data(dataset_path)"
   ]
  },
  {
   "cell_type": "code",
   "execution_count": 4,
   "metadata": {},
   "outputs": [],
   "source": [
    "# Split data into training and testing sets\n",
    "X_train, X_test, y_train, y_test = train_test_split(images, labels, test_size=0.2, random_state=42)"
   ]
  },
  {
   "cell_type": "code",
   "execution_count": 5,
   "metadata": {},
   "outputs": [],
   "source": [
    "# Convert labels to one-hot encoding\n",
    "y_train = to_categorical(y_train)\n",
    "y_test = to_categorical(y_test)"
   ]
  },
  {
   "cell_type": "code",
   "execution_count": 6,
   "metadata": {},
   "outputs": [],
   "source": [
    "# Define CNN model\n",
    "model = Sequential()\n",
    "model.add(Conv2D(32, (3, 3), activation='relu', input_shape=(128, 128, 1)))\n",
    "model.add(MaxPooling2D((2, 2)))\n",
    "model.add(Conv2D(64, (3, 3), activation='relu'))\n",
    "model.add(MaxPooling2D((2, 2)))\n",
    "model.add(Conv2D(64, (3, 3), activation='relu'))\n",
    "model.add(Flatten())\n",
    "model.add(Dense(64, activation='relu'))\n",
    "model.add(Dense(2, activation='softmax'))  # Output layer with 2 neurons for binary classification"
   ]
  },
  {
   "cell_type": "code",
   "execution_count": 7,
   "metadata": {},
   "outputs": [],
   "source": [
    "# Compile the model\n",
    "model.compile(optimizer='adam', loss='binary_crossentropy', metrics=['accuracy'])"
   ]
  },
  {
   "cell_type": "code",
   "execution_count": 8,
   "metadata": {},
   "outputs": [
    {
     "name": "stdout",
     "output_type": "stream",
     "text": [
      "Epoch 1/15\n",
      "52/52 [==============================] - 13s 246ms/step - loss: 0.6016 - accuracy: 0.6778 - val_loss: 0.5461 - val_accuracy: 0.7264\n",
      "Epoch 2/15\n",
      "52/52 [==============================] - 12s 227ms/step - loss: 0.4909 - accuracy: 0.7656 - val_loss: 0.4963 - val_accuracy: 0.7797\n",
      "Epoch 3/15\n",
      "52/52 [==============================] - 12s 228ms/step - loss: 0.4396 - accuracy: 0.8038 - val_loss: 0.4677 - val_accuracy: 0.7821\n",
      "Epoch 4/15\n",
      "52/52 [==============================] - 12s 225ms/step - loss: 0.3834 - accuracy: 0.8334 - val_loss: 0.6161 - val_accuracy: 0.7167\n",
      "Epoch 5/15\n",
      "52/52 [==============================] - 12s 233ms/step - loss: 0.3215 - accuracy: 0.8643 - val_loss: 0.5086 - val_accuracy: 0.7990\n",
      "Epoch 6/15\n",
      "52/52 [==============================] - 13s 245ms/step - loss: 0.2717 - accuracy: 0.8795 - val_loss: 0.5073 - val_accuracy: 0.7869\n",
      "Epoch 7/15\n",
      "52/52 [==============================] - 13s 246ms/step - loss: 0.1924 - accuracy: 0.9255 - val_loss: 0.5459 - val_accuracy: 0.7869\n",
      "Epoch 8/15\n",
      "52/52 [==============================] - 13s 248ms/step - loss: 0.1444 - accuracy: 0.9497 - val_loss: 0.6075 - val_accuracy: 0.8160\n",
      "Epoch 9/15\n",
      "52/52 [==============================] - 13s 248ms/step - loss: 0.0963 - accuracy: 0.9685 - val_loss: 0.7960 - val_accuracy: 0.7966\n",
      "Epoch 10/15\n",
      "52/52 [==============================] - 13s 249ms/step - loss: 0.0464 - accuracy: 0.9861 - val_loss: 0.8954 - val_accuracy: 0.7748\n",
      "Epoch 11/15\n",
      "52/52 [==============================] - 13s 247ms/step - loss: 0.0280 - accuracy: 0.9927 - val_loss: 0.8758 - val_accuracy: 0.7821\n",
      "Epoch 12/15\n",
      "52/52 [==============================] - 12s 241ms/step - loss: 0.0577 - accuracy: 0.9824 - val_loss: 1.0149 - val_accuracy: 0.8015\n",
      "Epoch 13/15\n",
      "52/52 [==============================] - 12s 235ms/step - loss: 0.0543 - accuracy: 0.9836 - val_loss: 0.9205 - val_accuracy: 0.7845\n",
      "Epoch 14/15\n",
      "52/52 [==============================] - 12s 234ms/step - loss: 0.0306 - accuracy: 0.9921 - val_loss: 1.1419 - val_accuracy: 0.7772\n",
      "Epoch 15/15\n",
      "52/52 [==============================] - 13s 241ms/step - loss: 0.0190 - accuracy: 0.9964 - val_loss: 1.0875 - val_accuracy: 0.7772\n"
     ]
    }
   ],
   "source": [
    "# Train the model\n",
    "history = model.fit(X_train.reshape(-1, 128, 128, 1), y_train, epochs=15, batch_size=32, validation_data=(X_test.reshape(-1, 128, 128, 1), y_test))"
   ]
  },
  {
   "cell_type": "code",
   "execution_count": 9,
   "metadata": {},
   "outputs": [
    {
     "data": {
      "text/plain": [
       "<Figure size 1200x600 with 0 Axes>"
      ]
     },
     "execution_count": 9,
     "metadata": {},
     "output_type": "execute_result"
    },
    {
     "data": {
      "text/plain": [
       "<Figure size 1200x600 with 0 Axes>"
      ]
     },
     "metadata": {},
     "output_type": "display_data"
    }
   ],
   "source": [
    "plt.figure(figsize=(12, 6))"
   ]
  },
  {
   "cell_type": "code",
   "execution_count": 10,
   "metadata": {},
   "outputs": [
    {
     "data": {
      "text/plain": [
       "<matplotlib.legend.Legend at 0x1dbae690510>"
      ]
     },
     "execution_count": 10,
     "metadata": {},
     "output_type": "execute_result"
    },
    {
     "data": {
      "image/png": "[encoded data removed]",
      "text/plain": [
       "<Figure size 640x480 with 1 Axes>"
      ]
     },
     "metadata": {},
     "output_type": "display_data"
    }
   ],
   "source": [
    "# Plot training & validation loss values\n",
    "plt.subplot(1, 2, 1)\n",
    "plt.plot(history.history['loss'])\n",
    "plt.plot(history.history['val_loss'])\n",
    "plt.title('Model loss')\n",
    "plt.ylabel('Loss')\n",
    "plt.xlabel('Epoch')\n",
    "plt.legend(['Train', 'Test'], loc='upper left')"
   ]
  },
  {
   "cell_type": "code",
   "execution_count": 11,
   "metadata": {},
   "outputs": [
    {
     "data": {
      "text/plain": [
       "<matplotlib.legend.Legend at 0x1dbae6a0d90>"
      ]
     },
     "execution_count": 11,
     "metadata": {},
     "output_type": "execute_result"
    },
    {
     "data": {
      "image/png": "[encoded data removed]",
      "text/plain": [
       "<Figure size 640x480 with 1 Axes>"
      ]
     },
     "metadata": {},
     "output_type": "display_data"
    }
   ],
   "source": [
    "# Plot training & validation accuracy values\n",
    "plt.subplot(1, 2, 2)\n",
    "plt.plot(history.history['accuracy'])\n",
    "plt.plot(history.history['val_accuracy'])\n",
    "plt.title('Model accuracy')\n",
    "plt.ylabel('Accuracy')\n",
    "plt.xlabel('Epoch')\n",
    "plt.legend(['Train', 'Test'], loc='upper left')"
   ]
  },
  {
   "cell_type": "code",
   "execution_count": 12,
   "metadata": {},
   "outputs": [],
   "source": [
    "plt.show()"
   ]
  },
  {
   "cell_type": "code",
   "execution_count": 13,
   "metadata": {},
   "outputs": [
    {
     "name": "stderr",
     "output_type": "stream",
     "text": [
      "C:\\Users\\hp\\AppData\\Local\\Packages\\PythonSoftwareFoundation.Python.3.11_qbz5n2kfra8p0\\LocalCache\\local-packages\\Python311\\site-packages\\keras\\src\\engine\\training.py:3000: UserWarning: You are saving your model as an HDF5 file via `model.save()`. This file format is considered legacy. We recommend using instead the native Keras format, e.g. `model.save('my_model.keras')`.\n",
      "  saving_api.save_model(\n"
     ]
    }
   ],
   "source": [
    "# Save the trained model\n",
    "model.save('brain_tumor_detection_model.h5')"
   ]
  },
  {
   "cell_type": "code",
   "execution_count": 14,
   "metadata": {},
   "outputs": [],
   "source": [
    "# Perform a single test using the saved model\n",
    "# Load the model\n",
    "saved_model = load_model('brain_tumor_detection_model.h5')"
   ]
  },
  {
   "cell_type": "code",
   "execution_count": 16,
   "metadata": {},
   "outputs": [
    {
     "name": "stdout",
     "output_type": "stream",
     "text": [
      "13/13 [==============================] - 1s 46ms/step - loss: 1.0875 - accuracy: 0.7772\n",
      "Test Loss: 1.0875394344329834\n",
      "Test Accuracy: 0.7772396802902222\n"
     ]
    }
   ],
   "source": [
    "# Evaluate the model\n",
    "loss, accuracy = model.evaluate(X_test.reshape(-1, 128, 128, 1), y_test)\n",
    "print(\"Test Loss:\", loss)\n",
    "print(\"Test Accuracy:\", accuracy)"
   ]
  },
  {
   "cell_type": "code",
   "execution_count": 29,
   "metadata": {},
   "outputs": [
    {
     "name": "stdout",
     "output_type": "stream",
     "text": [
      "1/1 [==============================] - 0s 19ms/step\n",
      "Prediction: Tumor Present\n"
     ]
    }
   ],
   "source": [
    "# Perform a single test\n",
    "# Assume you have a single image named 'test_image.jpg'\n",
    "test_image = cv2.imread(r'yes\\Y163.JPG')\n",
    "test_image = cv2.cvtColor(test_image, cv2.COLOR_BGR2GRAY)\n",
    "test_image = cv2.resize(test_image, (128, 128))\n",
    "test_image = test_image / 255.0\n",
    "test_image = np.expand_dims(test_image, axis=0)\n",
    "prediction = model.predict(test_image.reshape(-1, 128, 128, 1))\n",
    "if prediction[0][0] > prediction[0][1]:\n",
    "    print(\"Prediction: No Tumor\")\n",
    "else:\n",
    "    print(\"Prediction: Tumor Present\")"
   ]
  }
 ],
 "metadata": {
  "kernelspec": {
   "display_name": "Python 3",
   "language": "python",
   "name": "python3"
  },
  "language_info": {
   "codemirror_mode": {
    "name": "ipython",
    "version": 3
   },
   "file_extension": ".py",
   "mimetype": "text/x-python",
   "name": "python",
   "nbconvert_exporter": "python",
   "pygments_lexer": "ipython3",
   "version": "3.11.8"
  }
 },
 "nbformat": 4,
 "nbformat_minor": 2
}
